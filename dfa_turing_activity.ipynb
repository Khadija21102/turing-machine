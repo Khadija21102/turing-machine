{
 "cells": [
  {
   "cell_type": "markdown",
   "id": "39b7393e",
   "metadata": {},
   "source": [
    "# Password Verification\n",
    "\n",
    "In this notebook, you will be faced with a password verification task simulating the behavior of a Deterministic Finite Automaton (DFA). Please try to solve this assignment without looking at solutions, nor ChatGPT, nor Internet searches. It is okay to not complete the task, but please try to do your best.\n",
    "\n",
    "## Problem Solving Phase / Notes: Read these carefully\n",
    "\n",
    "This is a Python Jupyter Notebook containing both code and rich text elements. The notebook is split into the following sections:\n",
    "- Initial set of pre-filled cells, that you should evaluate (run) to instantiate the classes and boilerplate code you will need to complete the task.\n",
    "- Description of a concrete task associated with password verification.\n",
    "- Final section (with one or more empty cells) where you can solve the task at hand and write an answers to the questions posed in the task description."
   ]
  },
  {
   "cell_type": "markdown",
   "id": "576dc4ee",
   "metadata": {},
   "source": [
    "### Automaton Classes\n",
    "\n",
    "We encourage you to take a look at the class `State` and its methods in the code below. These classes will be useful for implementing the password verification task. Be sure you understand how they work and how to use them."
   ]
  },
  {
   "cell_type": "code",
   "execution_count": null,
   "id": "386ee2eb",
   "metadata": {},
   "outputs": [],
   "source": [
    "# --- Boilerplate DFA Code ---\n",
    "class State:\n",
    "    def __init__(self, name, is_accept=False):\n",
    "        \"\"\"\n",
    "        Initialize a DFA state.\n",
    "        name: Identifier for the state.\n",
    "        is_accept: Boolean indicating if it's an accept state.\n",
    "        \"\"\"\n",
    "        self.name = name\n",
    "        self.is_accept = is_accept\n",
    "        self.transitions = {}\n",
    "\n",
    "    def add_transition(self, symbol, state):\n",
    "        \"\"\"\n",
    "        Define a transition from this state on input symbol to another state.\n",
    "        \"\"\"\n",
    "        self.transitions[symbol] = state\n",
    "\n",
    "    def transition_to(self, symbol):\n",
    "        \"\"\"\n",
    "        Given an input symbol, return the next state or None if no transition defined.\n",
    "        \"\"\"\n",
    "        return self.transitions.get(symbol)\n",
    "\n",
    "def run_dfa(start_state, input_string):\n",
    "    \"\"\"\n",
    "    Runs the DFA on the input string from start state.\n",
    "    Returns True if ending state is accepting, False otherwise.\n",
    "    \"\"\"\n",
    "    current = start_state\n",
    "    for symbol in input_string:\n",
    "        current = current.transition_to(symbol)\n",
    "        if current is None:\n",
    "            return False\n",
    "    return current.is_accept\n"
   ]
  },
  {
   "cell_type": "markdown",
   "id": "9ac2abbd",
   "metadata": {},
   "source": [
    "### Problem Solving Task\n",
    "Your family recently experienced an online account hack, compromising all passwords. Your role is now to design an automated password verifier (a DFA-based Turing Machine) that ensures new passwords are secure. Specifically, your DFA must:\n",
    "- Accept passwords that are exactly 8 digits long.\n",
    "- Reject any password containing the digit '6' immediately following an '8'.\n"
   ]
  },
  {
   "cell_type": "markdown",
   "id": "fbe93084",
   "metadata": {},
   "source": [
    "### Hint: Simple DFA\n",
    "This example DFA accepts binary strings ending with '01'."
   ]
  },
  {
   "cell_type": "code",
   "execution_count": null,
   "id": "2767b75f",
   "metadata": {},
   "outputs": [],
   "source": [
    "# Example DFA: accepts binary strings ending with '01'\n",
    "s0 = State('s0')\n",
    "s1 = State('s1')\n",
    "s2 = State('s2', is_accept=True)\n",
    "\n",
    "s0.add_transition('0', s1)\n",
    "s0.add_transition('1', s0)\n",
    "s1.add_transition('0', s1)\n",
    "s1.add_transition('1', s2)\n",
    "s2.add_transition('0', s1)\n",
    "s2.add_transition('1', s0)\n",
    "\n",
    "# Test the example DFA\n",
    "assert run_dfa(s0, '01') == True\n",
    "assert run_dfa(s0, '001') == True\n",
    "assert run_dfa(s0, '10') == False\n",
    "print(\"Example DFA tests passed!\")"
   ]
  },
  {
   "cell_type": "markdown",
   "id": "e681851a",
   "metadata": {},
   "source": [
    "### Task: Password Verifier DFA\n",
    "Implement a DFA that ensures passwords are exactly 8 digits long and never contain the substring '86'."
   ]
  },
  {
   "cell_type": "code",
   "execution_count": null,
   "id": "b7f10a06",
   "metadata": {},
   "outputs": [],
   "source": [
    "# TODO: Build DFA for password verifier\n",
    "\n",
    "# Define your states here\n",
    "q0 = State('q0')  # initial\n",
    "\n",
    "# Add transitions...\n",
    "\n",
    "# Function to verify password\n",
    "def verify_password_dfa(password):\n",
    "    # Your implementation here\n",
    "    pass"
   ]
  },
  {
   "cell_type": "code",
   "execution_count": null,
   "id": "1a41fa12",
   "metadata": {},
   "outputs": [],
   "source": [
    "# Try out the output of the password verification here:\n",
    "\n",
    "input_password = input(\"Enter a password to verify: \")\n",
    "if verify_password_dfa(input_password):\n",
    "    print(\"Password is valid.\")\n",
    "else:\n",
    "    print(\"Password is invalid.\")"
   ]
  },
  {
   "cell_type": "markdown",
   "id": "ccae7f6e",
   "metadata": {},
   "source": [
    "Once your implementation is complete, you can test it with the provided test cases in the cell below. If you see the output \"Accepted\", it means the password verifier is correct. If you see \"Rejected\", it means the password verifier has an issue."
   ]
  },
  {
   "cell_type": "code",
   "execution_count": null,
   "id": "05d7dc5e",
   "metadata": {},
   "outputs": [],
   "source": [
    "# Verifier Cell\n",
    "\n",
    "# Test cases\n",
    "test_passwords = {\n",
    "    \"12345678\": True,\n",
    "    \"88651234\": False,  # contains '86'\n",
    "    \"1234\": False,      # too short\n",
    "    \"87654321\": True,\n",
    "}\n",
    "\n",
    "for pwd, expected in test_passwords.items():\n",
    "    result = verify_password_dfa(pwd)\n",
    "    print(f\"{pwd}: {result} (expected {expected})\")"
   ]
  },
  {
   "cell_type": "markdown",
   "id": "b12daaca",
   "metadata": {},
   "source": [
    "## NFA Challenge\n",
    "Your machine must:\n",
    "- Accept passwords that are **minimum** 8 digits long.\n",
    "- Reject any password containing the digit '6' immediately following an '8'.\n",
    "- Contain the **same number** of even and odd digits.\n",
    "\n",
    "Try solving this task in the code cell below. You can use the provided classes and methods to help you implement it. If you get stuck, you can move on and explain why you got stuck in the plain text section."
   ]
  },
  {
   "cell_type": "code",
   "execution_count": null,
   "id": "ddd60ad1",
   "metadata": {},
   "outputs": [],
   "source": [
    "# Define your states here\n",
    "q0 = State('q0')  # initial\n",
    "\n",
    "# Add transitions...\n",
    "\n",
    "# Function to verify password\n",
    "def verify_password_nfa(password):\n",
    "    # Your implementation here\n",
    "    pass"
   ]
  },
  {
   "cell_type": "code",
   "execution_count": null,
   "id": "de7a036d",
   "metadata": {},
   "outputs": [],
   "source": [
    "# Try out the output of the password verification here:\n",
    "\n",
    "input_password = input(\"Enter a password to verify: \")\n",
    "if verify_password_nfa(input_password):\n",
    "    print(\"Password is valid.\")\n",
    "else:\n",
    "    print(\"Password is invalid.\")"
   ]
  },
  {
   "cell_type": "code",
   "execution_count": null,
   "id": "606a36a9",
   "metadata": {},
   "outputs": [],
   "source": [
    "# QUESTION: If you got stuck, what would you say did you get stuck on?\n",
    "# ANSWER: ...."
   ]
  }
 ],
 "metadata": {
  "language_info": {
   "name": "python"
  }
 },
 "nbformat": 4,
 "nbformat_minor": 5
}
